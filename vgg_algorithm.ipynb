{
 "cells": [
  {
   "cell_type": "code",
   "execution_count": 39,
   "id": "694a7c6a",
   "metadata": {},
   "outputs": [],
   "source": [
    "\n",
    "from keras.applications.vgg16 import VGG16\n"
   ]
  },
  {
   "cell_type": "code",
   "execution_count": 40,
   "id": "bd433836",
   "metadata": {},
   "outputs": [],
   "source": [
    "model = VGG16()"
   ]
  },
  {
   "cell_type": "code",
   "execution_count": 41,
   "id": "51ae8f33",
   "metadata": {},
   "outputs": [
    {
     "name": "stdout",
     "output_type": "stream",
     "text": [
      "Model: \"vgg16\"\n",
      "_________________________________________________________________\n",
      " Layer (type)                Output Shape              Param #   \n",
      "=================================================================\n",
      " input_3 (InputLayer)        [(None, 224, 224, 3)]     0         \n",
      "                                                                 \n",
      " block1_conv1 (Conv2D)       (None, 224, 224, 64)      1792      \n",
      "                                                                 \n",
      " block1_conv2 (Conv2D)       (None, 224, 224, 64)      36928     \n",
      "                                                                 \n",
      " block1_pool (MaxPooling2D)  (None, 112, 112, 64)      0         \n",
      "                                                                 \n",
      " block2_conv1 (Conv2D)       (None, 112, 112, 128)     73856     \n",
      "                                                                 \n",
      " block2_conv2 (Conv2D)       (None, 112, 112, 128)     147584    \n",
      "                                                                 \n",
      " block2_pool (MaxPooling2D)  (None, 56, 56, 128)       0         \n",
      "                                                                 \n",
      " block3_conv1 (Conv2D)       (None, 56, 56, 256)       295168    \n",
      "                                                                 \n",
      " block3_conv2 (Conv2D)       (None, 56, 56, 256)       590080    \n",
      "                                                                 \n",
      " block3_conv3 (Conv2D)       (None, 56, 56, 256)       590080    \n",
      "                                                                 \n",
      " block3_pool (MaxPooling2D)  (None, 28, 28, 256)       0         \n",
      "                                                                 \n",
      " block4_conv1 (Conv2D)       (None, 28, 28, 512)       1180160   \n",
      "                                                                 \n",
      " block4_conv2 (Conv2D)       (None, 28, 28, 512)       2359808   \n",
      "                                                                 \n",
      " block4_conv3 (Conv2D)       (None, 28, 28, 512)       2359808   \n",
      "                                                                 \n",
      " block4_pool (MaxPooling2D)  (None, 14, 14, 512)       0         \n",
      "                                                                 \n",
      " block5_conv1 (Conv2D)       (None, 14, 14, 512)       2359808   \n",
      "                                                                 \n",
      " block5_conv2 (Conv2D)       (None, 14, 14, 512)       2359808   \n",
      "                                                                 \n",
      " block5_conv3 (Conv2D)       (None, 14, 14, 512)       2359808   \n",
      "                                                                 \n",
      " block5_pool (MaxPooling2D)  (None, 7, 7, 512)         0         \n",
      "                                                                 \n",
      " flatten (Flatten)           (None, 25088)             0         \n",
      "                                                                 \n",
      " fc1 (Dense)                 (None, 4096)              102764544 \n",
      "                                                                 \n",
      " fc2 (Dense)                 (None, 4096)              16781312  \n",
      "                                                                 \n",
      " predictions (Dense)         (None, 1000)              4097000   \n",
      "                                                                 \n",
      "=================================================================\n",
      "Total params: 138,357,544\n",
      "Trainable params: 138,357,544\n",
      "Non-trainable params: 0\n",
      "_________________________________________________________________\n"
     ]
    }
   ],
   "source": [
    "model.summary()"
   ]
  },
  {
   "cell_type": "code",
   "execution_count": 42,
   "id": "4f3e7ecd",
   "metadata": {},
   "outputs": [],
   "source": [
    "from __future__ import print_function\n",
    "\n",
    "import numpy as np\n",
    "import warnings\n",
    "\n",
    "from keras.models import Model\n",
    "from keras.layers import Flatten\n",
    "from keras.layers import Dense\n",
    "from keras.layers import Input\n",
    "from keras.layers import Conv2D\n",
    "from keras.layers import MaxPooling2D\n",
    "from keras.layers import GlobalMaxPooling2D\n",
    "from keras.layers import GlobalAveragePooling2D\n",
    "from keras.preprocessing import image\n",
    "from keras.utils import layer_utils\n",
    "from keras.utils.data_utils import get_file\n",
    "from keras import backend as K\n",
    "from keras.applications.imagenet_utils import decode_predictions\n",
    "from keras.applications.imagenet_utils import preprocess_input\n",
    "#from keras.applications.imagenet_utils import _obtain_input_shape # this will work for older versions of keras. 2.2.0 or before\n",
    "#from keras.engine.topology import get_source_inputs\n",
    "from keras.utils.layer_utils import get_source_inputs\n",
    "\n",
    "from keras_applications.imagenet_utils import _obtain_input_shape"
   ]
  },
  {
   "cell_type": "code",
   "execution_count": 43,
   "id": "0060c83e",
   "metadata": {},
   "outputs": [],
   "source": [
    "def VGGupdated(input_tensor=None,classes=2):    \n",
    "   \n",
    "    img_rows, img_cols = 300, 300   # by default size is 224,224\n",
    "    img_channels = 3\n",
    "\n",
    "    img_dim = (img_rows, img_cols, img_channels)\n",
    "   \n",
    "    img_input = Input(shape=img_dim)\n",
    "    \n",
    "    # Block 1\n",
    "    x = Conv2D(64, (3, 3), activation='relu', padding='same', name='block1_conv1')(img_input)\n",
    "    x = Conv2D(64, (3, 3), activation='relu', padding='same', name='block1_conv2')(x)\n",
    "    x = MaxPooling2D((2, 2), strides=(2, 2), name='block1_pool')(x)\n",
    "\n",
    "    # Block 2\n",
    "    x = Conv2D(128, (3, 3), activation='relu', padding='same', name='block2_conv1')(x)\n",
    "    x = Conv2D(128, (3, 3), activation='relu', padding='same', name='block2_conv2')(x)\n",
    "    x = MaxPooling2D((2, 2), strides=(2, 2), name='block2_pool')(x)\n",
    "\n",
    "    # Block 3\n",
    "    x = Conv2D(256, (3, 3), activation='relu', padding='same', name='block3_conv1')(x)\n",
    "    x = Conv2D(256, (3, 3), activation='relu', padding='same', name='block3_conv2')(x)\n",
    "    x = Conv2D(256, (3, 3), activation='relu', padding='same', name='block3_conv3')(x)\n",
    "    x = MaxPooling2D((2, 2), strides=(2, 2), name='block3_pool')(x)\n",
    "\n",
    "    # Block 4\n",
    "    x = Conv2D(512, (3, 3), activation='relu', padding='same', name='block4_conv1')(x)\n",
    "    x = Conv2D(512, (3, 3), activation='relu', padding='same', name='block4_conv2')(x)\n",
    "    x = Conv2D(512, (3, 3), activation='relu', padding='same', name='block4_conv3')(x)\n",
    "    x = MaxPooling2D((2, 2), strides=(2, 2), name='block4_pool')(x)\n",
    "\n",
    "    # Block 5\n",
    "    x = Conv2D(512, (3, 3), activation='relu', padding='same', name='block5_conv1')(x)\n",
    "    x = Conv2D(512, (3, 3), activation='relu', padding='same', name='block5_conv2')(x)\n",
    "    x = Conv2D(512, (3, 3), activation='relu', padding='same', name='block5_conv3')(x)\n",
    "    x = MaxPooling2D((2, 2), strides=(2, 2), name='block5_pool')(x)\n",
    "\n",
    "    \n",
    "    # Classification block\n",
    "    x = Flatten(name='flatten')(x)\n",
    "    x = Dense(4096, activation='relu', name='fc1')(x)\n",
    "    x = Dense(4096, activation='relu', name='fc2')(x)\n",
    "    x = Dense(classes, activation='softmax', name='predictions')(x)\n",
    "\n",
    "    # Create model.\n",
    "   \n",
    "     \n",
    "    model = Model(inputs = img_input, outputs = x, name='VGGdemo')\n",
    "\n",
    "\n",
    "    return model"
   ]
  },
  {
   "cell_type": "code",
   "execution_count": 44,
   "id": "9fcfc6c8",
   "metadata": {},
   "outputs": [],
   "source": [
    "model = VGGupdated(classes = 5)"
   ]
  },
  {
   "cell_type": "code",
   "execution_count": 45,
   "id": "c3a9d2f7",
   "metadata": {},
   "outputs": [],
   "source": [
    "model.compile(optimizer='adam', loss='categorical_crossentropy', metrics=['accuracy'])"
   ]
  },
  {
   "cell_type": "code",
   "execution_count": 46,
   "id": "81bc7b04",
   "metadata": {},
   "outputs": [
    {
     "name": "stdout",
     "output_type": "stream",
     "text": [
      "['beaus_line', 'black_line', 'mees_line', 'onycholysis', 'terrys_nail']\n",
      "Types of disease found:  5\n"
     ]
    }
   ],
   "source": [
    "import numpy as np \n",
    "import pandas as pd \n",
    "import matplotlib.pyplot as plt\n",
    "import os\n",
    "\n",
    "\n",
    "\n",
    "dis_types = os.listdir('dataset')\n",
    "print (dis_types)  #what kinds of rooms are in this dataset\n",
    "\n",
    "print(\"Types of disease found: \", len(dis_types))"
   ]
  },
  {
   "cell_type": "code",
   "execution_count": 47,
   "id": "96936762",
   "metadata": {},
   "outputs": [],
   "source": [
    "diseases = []\n",
    "\n",
    "for item in dis_types:\n",
    "    all_diseases = os.listdir('dataset' + '/' +item)\n",
    "    \n",
    "    for disease in all_diseases:\n",
    "        diseases.append((item, str('dataset' + '/' +item) + '/' + disease))\n",
    "        "
   ]
  },
  {
   "cell_type": "code",
   "execution_count": 48,
   "id": "d932b979",
   "metadata": {},
   "outputs": [
    {
     "name": "stdout",
     "output_type": "stream",
     "text": [
      "    dis_types                           image\n",
      "0  beaus_line  dataset/beaus_line/beau_10.jpg\n",
      "1  beaus_line  dataset/beaus_line/beau_11.jpg\n",
      "2  beaus_line  dataset/beaus_line/beau_12.jpg\n",
      "3  beaus_line  dataset/beaus_line/beau_13.jpg\n",
      "4  beaus_line  dataset/beaus_line/beau_14.jpg\n"
     ]
    }
   ],
   "source": [
    "\n",
    "    \n",
    "# Build a dataframe        \n",
    "disease_df = pd.DataFrame(data=diseases, columns=['dis_types', 'image'])\n",
    "print(disease_df.head())\n"
   ]
  },
  {
   "cell_type": "code",
   "execution_count": 49,
   "id": "c5fe175e",
   "metadata": {},
   "outputs": [
    {
     "name": "stdout",
     "output_type": "stream",
     "text": [
      "Total number of diseases in the dataset:  300\n",
      "disease in each category: \n",
      "beaus_line     60\n",
      "black_line     60\n",
      "mees_line      60\n",
      "onycholysis    60\n",
      "terrys_nail    60\n",
      "Name: dis_types, dtype: int64\n"
     ]
    }
   ],
   "source": [
    "print(\"Total number of diseases in the dataset: \", len(disease_df))\n",
    "\n",
    "disease_count = disease_df['dis_types'].value_counts()\n",
    "\n",
    "print(\"disease in each category: \")\n",
    "print(disease_count)"
   ]
  },
  {
   "cell_type": "code",
   "execution_count": 50,
   "id": "dba3f202",
   "metadata": {},
   "outputs": [],
   "source": [
    "import cv2\n",
    "path = 'dataset/'\n",
    "\n",
    "\n",
    "im_size = 300\n",
    "\n",
    "images = []\n",
    "labels = []\n",
    "\n",
    "for i in dis_types:\n",
    "    data_path = path + str(i)  \n",
    "    filenames = [i for i in os.listdir(data_path) ]\n",
    "   \n",
    "    for f in filenames:\n",
    "        img = cv2.imread(data_path + '/' + f)\n",
    "        img = cv2.resize(img, (im_size, im_size))\n",
    "        images.append(img)\n",
    "        labels.append(i)"
   ]
  },
  {
   "cell_type": "code",
   "execution_count": 51,
   "id": "da77d449",
   "metadata": {},
   "outputs": [
    {
     "data": {
      "text/plain": [
       "(300, 300, 300, 3)"
      ]
     },
     "execution_count": 51,
     "metadata": {},
     "output_type": "execute_result"
    }
   ],
   "source": [
    "images = np.array(images)\n",
    "\n",
    "images = images.astype('float32') / 255.0\n",
    "images.shape "
   ]
  },
  {
   "cell_type": "code",
   "execution_count": 53,
   "id": "131e8695",
   "metadata": {},
   "outputs": [
    {
     "name": "stdout",
     "output_type": "stream",
     "text": [
      "['beaus_line' 'beaus_line' 'beaus_line' 'beaus_line' 'beaus_line'\n",
      " 'beaus_line' 'beaus_line' 'beaus_line' 'beaus_line' 'beaus_line'\n",
      " 'beaus_line' 'beaus_line' 'beaus_line' 'beaus_line' 'beaus_line'\n",
      " 'beaus_line' 'beaus_line' 'beaus_line' 'beaus_line' 'beaus_line'\n",
      " 'beaus_line' 'beaus_line' 'beaus_line' 'beaus_line' 'beaus_line'\n",
      " 'beaus_line' 'beaus_line' 'beaus_line' 'beaus_line' 'beaus_line'\n",
      " 'beaus_line' 'beaus_line' 'beaus_line' 'beaus_line' 'beaus_line'\n",
      " 'beaus_line' 'beaus_line' 'beaus_line' 'beaus_line' 'beaus_line'\n",
      " 'beaus_line' 'beaus_line' 'beaus_line' 'beaus_line' 'beaus_line'\n",
      " 'beaus_line' 'beaus_line' 'beaus_line' 'beaus_line' 'beaus_line'\n",
      " 'beaus_line' 'beaus_line' 'beaus_line' 'beaus_line' 'beaus_line'\n",
      " 'black_line' 'black_line' 'black_line' 'black_line' 'black_line'\n",
      " 'black_line' 'black_line' 'black_line' 'black_line' 'black_line'\n",
      " 'black_line' 'black_line' 'black_line' 'black_line' 'black_line'\n",
      " 'black_line' 'black_line' 'black_line' 'black_line' 'black_line'\n",
      " 'black_line' 'black_line' 'black_line' 'black_line' 'black_line'\n",
      " 'black_line' 'black_line' 'black_line' 'black_line' 'black_line'\n",
      " 'black_line' 'black_line' 'black_line' 'black_line' 'black_line'\n",
      " 'black_line' 'black_line' 'black_line' 'black_line' 'black_line'\n",
      " 'black_line' 'black_line' 'black_line' 'black_line' 'black_line'\n",
      " 'black_line' 'black_line' 'black_line' 'black_line' 'black_line'\n",
      " 'black_line' 'black_line' 'black_line' 'black_line' 'black_line'\n",
      " 'black_line' 'black_line' 'black_line' 'black_line' 'black_line'\n",
      " 'mees_line' 'mees_line' 'mees_line' 'mees_line' 'mees_line' 'mees_line'\n",
      " 'mees_line' 'mees_line' 'mees_line' 'mees_line' 'mees_line' 'mees_line'\n",
      " 'mees_line' 'mees_line' 'mees_line' 'mees_line' 'mees_line' 'mees_line'\n",
      " 'mees_line' 'mees_line' 'mees_line' 'mees_line' 'mees_line' 'mees_line'\n",
      " 'mees_line' 'mees_line' 'mees_line' 'mees_line' 'mees_line' 'mees_line'\n",
      " 'mees_line' 'mees_line' 'mees_line' 'mees_line' 'mees_line' 'mees_line'\n",
      " 'mees_line' 'mees_line' 'mees_line' 'mees_line' 'mees_line' 'mees_line'\n",
      " 'mees_line' 'mees_line' 'mees_line' 'mees_line' 'mees_line' 'mees_line'\n",
      " 'mees_line' 'mees_line' 'mees_line' 'mees_line' 'mees_line' 'mees_line'\n",
      " 'mees_line' 'mees_line' 'mees_line' 'mees_line' 'mees_line' 'mees_line'\n",
      " 'onycholysis' 'onycholysis' 'onycholysis' 'onycholysis' 'onycholysis'\n",
      " 'onycholysis' 'onycholysis' 'onycholysis' 'onycholysis' 'onycholysis'\n",
      " 'onycholysis' 'onycholysis' 'onycholysis' 'onycholysis' 'onycholysis'\n",
      " 'onycholysis' 'onycholysis' 'onycholysis' 'onycholysis' 'onycholysis'\n",
      " 'onycholysis' 'onycholysis' 'onycholysis' 'onycholysis' 'onycholysis'\n",
      " 'onycholysis' 'onycholysis' 'onycholysis' 'onycholysis' 'onycholysis'\n",
      " 'onycholysis' 'onycholysis' 'onycholysis' 'onycholysis' 'onycholysis'\n",
      " 'onycholysis' 'onycholysis' 'onycholysis' 'onycholysis' 'onycholysis'\n",
      " 'onycholysis' 'onycholysis' 'onycholysis' 'onycholysis' 'onycholysis'\n",
      " 'onycholysis' 'onycholysis' 'onycholysis' 'onycholysis' 'onycholysis'\n",
      " 'onycholysis' 'onycholysis' 'onycholysis' 'onycholysis' 'onycholysis'\n",
      " 'onycholysis' 'onycholysis' 'onycholysis' 'onycholysis' 'onycholysis'\n",
      " 'terrys_nail' 'terrys_nail' 'terrys_nail' 'terrys_nail' 'terrys_nail'\n",
      " 'terrys_nail' 'terrys_nail' 'terrys_nail' 'terrys_nail' 'terrys_nail'\n",
      " 'terrys_nail' 'terrys_nail' 'terrys_nail' 'terrys_nail' 'terrys_nail'\n",
      " 'terrys_nail' 'terrys_nail' 'terrys_nail' 'terrys_nail' 'terrys_nail'\n",
      " 'terrys_nail' 'terrys_nail' 'terrys_nail' 'terrys_nail' 'terrys_nail'\n",
      " 'terrys_nail' 'terrys_nail' 'terrys_nail' 'terrys_nail' 'terrys_nail'\n",
      " 'terrys_nail' 'terrys_nail' 'terrys_nail' 'terrys_nail' 'terrys_nail'\n",
      " 'terrys_nail' 'terrys_nail' 'terrys_nail' 'terrys_nail' 'terrys_nail'\n",
      " 'terrys_nail' 'terrys_nail' 'terrys_nail' 'terrys_nail' 'terrys_nail'\n",
      " 'terrys_nail' 'terrys_nail' 'terrys_nail' 'terrys_nail' 'terrys_nail'\n",
      " 'terrys_nail' 'terrys_nail' 'terrys_nail' 'terrys_nail' 'terrys_nail'\n",
      " 'terrys_nail' 'terrys_nail' 'terrys_nail' 'terrys_nail' 'terrys_nail']\n",
      "[0 0 0 0 0 0 0 0 0 0 0 0 0 0 0 0 0 0 0 0 0 0 0 0 0 0 0 0 0 0 0 0 0 0 0 0 0\n",
      " 0 0 0 0 0 0 0 0 0 0 0 0 0 0 0 0 0 0 0 0 0 0 0 1 1 1 1 1 1 1 1 1 1 1 1 1 1\n",
      " 1 1 1 1 1 1 1 1 1 1 1 1 1 1 1 1 1 1 1 1 1 1 1 1 1 1 1 1 1 1 1 1 1 1 1 1 1\n",
      " 1 1 1 1 1 1 1 1 1 2 2 2 2 2 2 2 2 2 2 2 2 2 2 2 2 2 2 2 2 2 2 2 2 2 2 2 2\n",
      " 2 2 2 2 2 2 2 2 2 2 2 2 2 2 2 2 2 2 2 2 2 2 2 2 2 2 2 2 2 2 2 2 3 3 3 3 3\n",
      " 3 3 3 3 3 3 3 3 3 3 3 3 3 3 3 3 3 3 3 3 3 3 3 3 3 3 3 3 3 3 3 3 3 3 3 3 3\n",
      " 3 3 3 3 3 3 3 3 3 3 3 3 3 3 3 3 3 3 4 4 4 4 4 4 4 4 4 4 4 4 4 4 4 4 4 4 4\n",
      " 4 4 4 4 4 4 4 4 4 4 4 4 4 4 4 4 4 4 4 4 4 4 4 4 4 4 4 4 4 4 4 4 4 4 4 4 4\n",
      " 4 4 4 4]\n"
     ]
    }
   ],
   "source": [
    "from sklearn.preprocessing import LabelEncoder , OneHotEncoder\n",
    "y=disease_df['dis_types'].values\n",
    "print(y[5:])\n",
    "\n",
    "y_labelencoder = LabelEncoder ()\n",
    "y = y_labelencoder.fit_transform (y)\n",
    "print (y)"
   ]
  },
  {
   "cell_type": "code",
   "execution_count": 56,
   "id": "5daa916f",
   "metadata": {},
   "outputs": [],
   "source": [
    "y=y.reshape(-1,1)\n"
   ]
  },
  {
   "cell_type": "code",
   "execution_count": 57,
   "id": "476dcd27",
   "metadata": {},
   "outputs": [
    {
     "name": "stdout",
     "output_type": "stream",
     "text": [
      "[[1. 0. 0. 0. 0.]\n",
      " [1. 0. 0. 0. 0.]\n",
      " [1. 0. 0. 0. 0.]\n",
      " ...\n",
      " [0. 0. 0. 0. 1.]\n",
      " [0. 0. 0. 0. 1.]\n",
      " [0. 0. 0. 0. 1.]]\n"
     ]
    }
   ],
   "source": [
    "from sklearn.compose import ColumnTransformer\n",
    "ct = ColumnTransformer([('my_ohe', OneHotEncoder(), [0])], remainder='passthrough')\n",
    "Y = ct.fit_transform(y).toarray()\n",
    "print(Y[:-5])"
   ]
  },
  {
   "cell_type": "code",
   "execution_count": 58,
   "id": "e1079c43",
   "metadata": {},
   "outputs": [
    {
     "data": {
      "text/plain": [
       "array([[1., 0., 0., 0., 0.],\n",
       "       [1., 0., 0., 0., 0.],\n",
       "       [1., 0., 0., 0., 0.],\n",
       "       ...,\n",
       "       [0., 0., 0., 0., 1.],\n",
       "       [0., 0., 0., 0., 1.],\n",
       "       [0., 0., 0., 0., 1.]])"
      ]
     },
     "execution_count": 58,
     "metadata": {},
     "output_type": "execute_result"
    }
   ],
   "source": [
    "Y"
   ]
  },
  {
   "cell_type": "code",
   "execution_count": 59,
   "id": "b1633807",
   "metadata": {},
   "outputs": [
    {
     "name": "stdout",
     "output_type": "stream",
     "text": [
      "(285, 300, 300, 3)\n",
      "(285, 5)\n",
      "(15, 300, 300, 3)\n",
      "(15, 5)\n"
     ]
    }
   ],
   "source": [
    "from sklearn.utils import shuffle\n",
    "from sklearn.model_selection import train_test_split\n",
    "\n",
    "\n",
    "images, Y = shuffle(images, Y, random_state=1)\n",
    "\n",
    "train_x, test_x, train_y, test_y = train_test_split(images, Y, test_size=0.05, random_state=415)\n",
    "\n",
    "#inpect the shape of the training and testing.\n",
    "print(train_x.shape)\n",
    "print(train_y.shape)\n",
    "print(test_x.shape)\n",
    "print(test_y.shape)"
   ]
  },
  {
   "cell_type": "code",
   "execution_count": null,
   "id": "ad4a4519",
   "metadata": {},
   "outputs": [
    {
     "name": "stdout",
     "output_type": "stream",
     "text": [
      "Epoch 1/2\n",
      "29/36 [=======================>......] - ETA: 8:37 - loss: 2.3968 - accuracy: 0.1724 "
     ]
    }
   ],
   "source": [
    "model.fit(train_x, train_y, epochs = 2, batch_size = 8)  "
   ]
  },
  {
   "cell_type": "code",
   "execution_count": null,
   "id": "f009a3c2",
   "metadata": {},
   "outputs": [],
   "source": [
    "preds = model.evaluate(test_x, test_y)\n",
    "print (\"Loss = \" + str(preds[0]))\n",
    "#print (\"Test Accuracy = \" + str(preds[1]))"
   ]
  },
  {
   "cell_type": "code",
   "execution_count": null,
   "id": "2267f359",
   "metadata": {},
   "outputs": [],
   "source": [
    "from matplotlib.pyplot import imread\n",
    "from matplotlib.pyplot import imshow\n",
    "\n",
    "img_path = 'test_img.jpg'\n",
    "\n",
    "img = image.load_img(img_path, target_size=(300, 300))\n",
    "\n",
    "x = image.img_to_array(img)\n",
    "x = np.expand_dims(x, axis=0)\n",
    "x = preprocess_input(x)\n",
    "\n",
    "print('Input image shape:', x.shape)\n",
    "\n",
    "my_image = imread(img_path)\n",
    "imshow(my_image)"
   ]
  },
  {
   "cell_type": "code",
   "execution_count": null,
   "id": "5a75011f",
   "metadata": {},
   "outputs": [],
   "source": [
    "print(model.predict(x))"
   ]
  },
  {
   "cell_type": "code",
   "execution_count": null,
   "id": "184363cd",
   "metadata": {},
   "outputs": [],
   "source": [
    "import keras\n",
    "print(keras.__version__)"
   ]
  },
  {
   "cell_type": "code",
   "execution_count": null,
   "id": "480c349f",
   "metadata": {},
   "outputs": [],
   "source": []
  }
 ],
 "metadata": {
  "kernelspec": {
   "display_name": "yolov7",
   "language": "python",
   "name": "yolov7"
  },
  "language_info": {
   "codemirror_mode": {
    "name": "ipython",
    "version": 3
   },
   "file_extension": ".py",
   "mimetype": "text/x-python",
   "name": "python",
   "nbconvert_exporter": "python",
   "pygments_lexer": "ipython3",
   "version": "3.7.16"
  }
 },
 "nbformat": 4,
 "nbformat_minor": 5
}
